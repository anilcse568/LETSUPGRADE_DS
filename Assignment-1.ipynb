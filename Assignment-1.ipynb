{
 "cells": [
  {
   "cell_type": "code",
   "execution_count": null,
   "metadata": {},
   "outputs": [],
   "source": [
    "#Questions 1: \n",
    "print(\"RAINBOW\")"
   ]
  },
  {
   "cell_type": "code",
   "execution_count": null,
   "metadata": {},
   "outputs": [],
   "source": [
    "#Questions 2:\n",
    "print(\"LETS UPGRADE\")"
   ]
  },
  {
   "cell_type": "code",
   "execution_count": 4,
   "metadata": {},
   "outputs": [
    {
     "name": "stdout",
     "output_type": "stream",
     "text": [
      "20\n",
      "30\n",
      "Profit\n"
     ]
    }
   ],
   "source": [
    "#Questions 3:-Case1\n",
    "Cost_Price=int(input())\n",
    "Selling_Price=int(input())\n",
    "\n",
    "if Cost_Price-Selling_Price<0:\n",
    "    print(\"Profit\")\n",
    "\n",
    "elif Cost_Price-Selling_Price>0:\n",
    "    print(\"Loss\")\n",
    "else:\n",
    "    print(\"Neither\")"
   ]
  },
  {
   "cell_type": "code",
   "execution_count": 5,
   "metadata": {},
   "outputs": [
    {
     "name": "stdout",
     "output_type": "stream",
     "text": [
      "20\n",
      "10\n",
      "Loss\n"
     ]
    }
   ],
   "source": [
    "#Questions 3: Case2\n",
    "Cost_Price=int(input())\n",
    "Selling_Price=int(input())\n",
    "\n",
    "if Cost_Price-Selling_Price>0:\n",
    "    print(\"Loss\")\n",
    "\n",
    "elif Cost_Price-Selling_Price<0:\n",
    "    print(\"Profit\")\n",
    "\n",
    "else:\n",
    "    print(\"Neither\")"
   ]
  },
  {
   "cell_type": "code",
   "execution_count": 6,
   "metadata": {},
   "outputs": [
    {
     "name": "stdout",
     "output_type": "stream",
     "text": [
      "20\n",
      "20\n",
      "Neither\n"
     ]
    }
   ],
   "source": [
    "#Questions 3: Case3\n",
    "Cost_Price=int(input())\n",
    "Selling_Price=int(input())\n",
    "\n",
    "if Cost_Price-Selling_Price>0:\n",
    "    print(\"Loss\")\n",
    "\n",
    "elif Cost_Price-Selling_Price<0:\n",
    "    print(\"Profit\")\n",
    "\n",
    "else:\n",
    "    print(\"Neither\")"
   ]
  },
  {
   "cell_type": "code",
   "execution_count": 7,
   "metadata": {},
   "outputs": [
    {
     "name": "stdout",
     "output_type": "stream",
     "text": [
      "19\n",
      "19\n",
      "Neither\n"
     ]
    }
   ],
   "source": [
    "#Questions 3: Case4\n",
    "Cost_Price=int(input())\n",
    "Selling_Price=int(input())\n",
    "\n",
    "if Cost_Price-Selling_Price>0:\n",
    "    print(\"Loss\")\n",
    "\n",
    "elif Cost_Price-Selling_Price<0:\n",
    "    print(\"Profit\")\n",
    "\n",
    "else:\n",
    "    print(\"Neither\")"
   ]
  },
  {
   "cell_type": "code",
   "execution_count": 8,
   "metadata": {},
   "outputs": [
    {
     "name": "stdout",
     "output_type": "stream",
     "text": [
      "23\n",
      "7\n",
      "Loss\n"
     ]
    }
   ],
   "source": [
    "#Questions 3: Case5\n",
    "Cost_Price=int(input())\n",
    "Selling_Price=int(input())\n",
    "\n",
    "if Cost_Price-Selling_Price>0:\n",
    "    print(\"Loss\")\n",
    "\n",
    "elif Cost_Price-Selling_Price<0:\n",
    "    print(\"Profit\")\n",
    "\n",
    "else:\n",
    "    print(\"Neither\")"
   ]
  },
  {
   "cell_type": "code",
   "execution_count": 9,
   "metadata": {},
   "outputs": [
    {
     "name": "stdout",
     "output_type": "stream",
     "text": [
      "19\n",
      "95\n",
      "Profit\n"
     ]
    }
   ],
   "source": [
    "#Questions 3: Case6\n",
    "Cost_Price=int(input())\n",
    "Selling_Price=int(input())\n",
    "\n",
    "if Cost_Price-Selling_Price>0:\n",
    "    print(\"Loss\")\n",
    "\n",
    "elif Cost_Price-Selling_Price<0:\n",
    "    print(\"Profit\")\n",
    "\n",
    "else:\n",
    "    print(\"Neither\")"
   ]
  },
  {
   "cell_type": "code",
   "execution_count": 10,
   "metadata": {},
   "outputs": [
    {
     "name": "stdout",
     "output_type": "stream",
     "text": [
      "20\n",
      "1600\n"
     ]
    }
   ],
   "source": [
    "#Questions 4:-Case1\n",
    "IndRupee=int(input())\n",
    "print(IndRupee*80)"
   ]
  },
  {
   "cell_type": "code",
   "execution_count": 11,
   "metadata": {},
   "outputs": [
    {
     "name": "stdout",
     "output_type": "stream",
     "text": [
      "50\n",
      "4000\n"
     ]
    }
   ],
   "source": [
    "#Questions 4:-Case2\n",
    "IndRupee=int(input())\n",
    "print(IndRupee*80)"
   ]
  },
  {
   "cell_type": "code",
   "execution_count": 12,
   "metadata": {},
   "outputs": [
    {
     "name": "stdout",
     "output_type": "stream",
     "text": [
      "72\n",
      "5760\n"
     ]
    }
   ],
   "source": [
    "#Questions 4:-Case3\n",
    "IndRupee=int(input())\n",
    "print(IndRupee*80)"
   ]
  },
  {
   "cell_type": "code",
   "execution_count": 13,
   "metadata": {},
   "outputs": [
    {
     "name": "stdout",
     "output_type": "stream",
     "text": [
      "7\n",
      "560\n"
     ]
    }
   ],
   "source": [
    "#Questions 4:-Case4\n",
    "IndRupee=int(input())\n",
    "print(IndRupee*80)"
   ]
  },
  {
   "cell_type": "code",
   "execution_count": 15,
   "metadata": {},
   "outputs": [
    {
     "name": "stdout",
     "output_type": "stream",
     "text": [
      "35\n",
      "2800\n"
     ]
    }
   ],
   "source": [
    "#Questions 4:-Case5\n",
    "IndRupee=int(input())\n",
    "print(IndRupee*80)"
   ]
  },
  {
   "cell_type": "code",
   "execution_count": 16,
   "metadata": {},
   "outputs": [
    {
     "name": "stdout",
     "output_type": "stream",
     "text": [
      "23\n",
      "1840\n"
     ]
    }
   ],
   "source": [
    "#Questions 4:-Case6\n",
    "IndRupee=int(input())\n",
    "print(IndRupee*80)"
   ]
  },
  {
   "cell_type": "code",
   "execution_count": 17,
   "metadata": {},
   "outputs": [
    {
     "name": "stdout",
     "output_type": "stream",
     "text": [
      "95\n",
      "7600\n"
     ]
    }
   ],
   "source": [
    "#Questions 4:-Case7\n",
    "IndRupee=int(input())\n",
    "print(IndRupee*80)"
   ]
  },
  {
   "cell_type": "code",
   "execution_count": 18,
   "metadata": {},
   "outputs": [
    {
     "name": "stdout",
     "output_type": "stream",
     "text": [
      "18\n",
      "1440\n"
     ]
    }
   ],
   "source": [
    "#Questions 4:-Case8\n",
    "IndRupee=int(input())\n",
    "print(IndRupee*80)"
   ]
  },
  {
   "cell_type": "code",
   "execution_count": null,
   "metadata": {},
   "outputs": [],
   "source": []
  }
 ],
 "metadata": {
  "kernelspec": {
   "display_name": "Python 3",
   "language": "python",
   "name": "python3"
  },
  "language_info": {
   "codemirror_mode": {
    "name": "ipython",
    "version": 3
   },
   "file_extension": ".py",
   "mimetype": "text/x-python",
   "name": "python",
   "nbconvert_exporter": "python",
   "pygments_lexer": "ipython3",
   "version": "3.8.3"
  }
 },
 "nbformat": 4,
 "nbformat_minor": 4
}
